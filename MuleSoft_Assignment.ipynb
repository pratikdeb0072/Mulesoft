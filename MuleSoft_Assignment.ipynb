{
 "cells": [
  {
   "cell_type": "code",
   "execution_count": 1,
   "id": "38088595",
   "metadata": {},
   "outputs": [],
   "source": [
    "import pymongo"
   ]
  },
  {
   "cell_type": "code",
   "execution_count": 2,
   "id": "9d968940",
   "metadata": {},
   "outputs": [],
   "source": [
    "# Connect to MongoDB instance\n",
    "client = pymongo.MongoClient()"
   ]
  },
  {
   "cell_type": "code",
   "execution_count": 8,
   "id": "317d0ac3",
   "metadata": {},
   "outputs": [],
   "source": [
    "#create database\n",
    "mydb = client[\"Movies\"]"
   ]
  },
  {
   "cell_type": "code",
   "execution_count": 9,
   "id": "61e52310",
   "metadata": {},
   "outputs": [],
   "source": [
    "#create collection\n",
    "mycol = mydb[\"movie_details\"]"
   ]
  },
  {
   "cell_type": "code",
   "execution_count": 16,
   "id": "eb71b324",
   "metadata": {},
   "outputs": [],
   "source": [
    "mylist = [{ \"name\": \"Kashmir Files\", \"actor\": \"Mithun Chakraborty\", \"actress\":\"Pallavi Joshi\",\"director\":\"Vivek Agnihotri\",\"year of release\": 2022},\n",
    "         { \"name\": \"URI\", \"actor\": \"Vicky Kaushal\", \"actress\":\"Yami Gautam\",\"director\":\"Aditya Dhar\",\"year of release\": 2019},\n",
    "         { \"name\": \"Sanju\", \"actor\": \"Ranbir Kapoor\", \"actress\":\"Sonam Kapoor\",\"director\":\"Rajkumar Hirani\",\"year of release\": 2018}\n",
    "         \n",
    "         ]"
   ]
  },
  {
   "cell_type": "code",
   "execution_count": 17,
   "id": "55a1e1f6",
   "metadata": {},
   "outputs": [],
   "source": [
    "#insert multiple documents into the collection\n",
    "x = mycol.insert_many(mylist)"
   ]
  },
  {
   "cell_type": "code",
   "execution_count": 18,
   "id": "371c649c",
   "metadata": {},
   "outputs": [
    {
     "name": "stdout",
     "output_type": "stream",
     "text": [
      "{'_id': ObjectId('6233666f4543cf0967ecddb6'), 'name': 'Kashmir Files', 'actor': 'Mithun Chakraborty', 'actress': 'Pallavi Joshi', 'director': 'Vivek Agnihotri', 'year of release': 2022}\n",
      "{'_id': ObjectId('6233666f4543cf0967ecddb7'), 'name': 'URI', 'actor': 'Vicky Kaushal', 'actress': 'Yami Gautam', 'director': 'Aditya Dhar', 'year of release': 2019}\n",
      "{'_id': ObjectId('6233666f4543cf0967ecddb8'), 'name': 'Sanju', 'actor': 'Ranbir Kapoor', 'actress': 'Sonam Kapoor', 'director': 'Rajkumar Hirani', 'year of release': 2018}\n"
     ]
    }
   ],
   "source": [
    "#retreive all documents in the collection\n",
    "for x in mycol.find():\n",
    "  print(x)"
   ]
  },
  {
   "cell_type": "code",
   "execution_count": 22,
   "id": "3cf79b6a",
   "metadata": {},
   "outputs": [
    {
     "name": "stdout",
     "output_type": "stream",
     "text": [
      "{'_id': ObjectId('6233666f4543cf0967ecddb7'), 'name': 'URI', 'actor': 'Vicky Kaushal', 'actress': 'Yami Gautam', 'director': 'Aditya Dhar', 'year of release': 2019}\n"
     ]
    }
   ],
   "source": [
    "#print documents based on the actor's name\n",
    "for x in mycol.find({'actor':'Vicky Kaushal'}):\n",
    "  print(x)"
   ]
  },
  {
   "cell_type": "code",
   "execution_count": null,
   "id": "f1c96447",
   "metadata": {},
   "outputs": [],
   "source": []
  }
 ],
 "metadata": {
  "kernelspec": {
   "display_name": "Python 3 (ipykernel)",
   "language": "python",
   "name": "python3"
  },
  "language_info": {
   "codemirror_mode": {
    "name": "ipython",
    "version": 3
   },
   "file_extension": ".py",
   "mimetype": "text/x-python",
   "name": "python",
   "nbconvert_exporter": "python",
   "pygments_lexer": "ipython3",
   "version": "3.9.7"
  }
 },
 "nbformat": 4,
 "nbformat_minor": 5
}
